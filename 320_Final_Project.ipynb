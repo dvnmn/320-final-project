{
 "cells": [
  {
   "cell_type": "code",
   "execution_count": 106,
   "metadata": {},
   "outputs": [],
   "source": [
    "import requests\n",
    "import json\n",
    "import re\n",
    "import pandas as pd\n",
    "from sklearn import svm\n",
    "from sklearn.model_selection import train_test_split\n",
    "from sklearn.feature_selection import f_regression\n",
    "from sklearn import metrics\n",
    "from sklearn.tree import DecisionTreeClassifier\n",
    "import numpy as np\n",
    "import matplotlib.pyplot as plt"
   ]
  },
  {
   "cell_type": "code",
   "execution_count": 62,
   "metadata": {},
   "outputs": [],
   "source": [
    "API_KEY = 'RGAPI-7f775d72-3580-41bc-8c20-f835f99996e9'\n",
    "FEATURED_GAMES_URL = f'https://na1.api.riotgames.com/lol/spectator/v4/featured-games?api_key={API_KEY}'\n",
    "SUMMONER_INFO_URL = 'https://na1.api.riotgames.com/lol/summoner/v4/summoners/by-name/'\n",
    "MATCH_ID_URL = 'https://americas.api.riotgames.com/lol/match/v5/matches/by-puuid/'\n",
    "MATCH_INFO_URL = 'https://americas.api.riotgames.com/lol/match/v5/matches/'"
   ]
  },
  {
   "cell_type": "markdown",
   "metadata": {},
   "source": [
    "The constants above represent much of the information needed to call the API endpoints Riot provides. The `API_KEY` is a string that must be added onto the end of every API endpoint in order for Riot to authenticate the request. Without the `API_KEY`, no request will be able to bring in information as Riot will block any requests with it. For Riot's specific API, the `API_KEY` resets every 24 hours and must be reknewed from the user's dashboard when it expires. The dashboard can be accessed at [Riot's Developer API Dashboard.](https://developer.riotgames.com)\n",
    "\n",
    "The next four constants represent the different API endpoints that will be used for the project. The documentation page for each API can be accessed by clicking on the constant's name found in the list below.\n",
    "<ul>\n",
    "    <li>\n",
    "        <a href=\"https://developer.riotgames.com/apis#spectator-v4/GET_getFeaturedGames\">FEATURED_GAMES_URL</a>: The API endpoint provides a list of recently played featured games. The endpoint will be used to get a list of random users to pull match data from.\n",
    "    </li>\n",
    "    <li>\n",
    "        <a href=\"https://developer.riotgames.com/apis#summoner-v4/GET_getBySummonerName\">SUMMONER_INFO_URL</a>: Given a summoner's (player's) in-game username, the API endpoint can be used to get the players PUUID (universally unique identifer). The player's PUUID can then be used to find more match information later.\n",
    "    </li>\n",
    "    <li>\n",
    "        <a href=\"https://developer.riotgames.com/apis#match-v5/GET_getMatchIdsByPUUID\">MATCH_ID_URL</a>: Using a player's PUUID, the player's recent match history can be obtained using this API endpoint.\n",
    "    </li>\n",
    "    <li>\n",
    "        <a href=\"https://developer.riotgames.com/apis#match-v5/GET_getMatch\">MATCH_INFO_URL</a>: By supplying a `match_id` to the API endpoint, a long list of detailed statistics and information for the given match can be acquired.\n",
    "    </li>\n",
    "</ul>"
   ]
  },
  {
   "cell_type": "code",
   "execution_count": 4,
   "metadata": {},
   "outputs": [],
   "source": [
    "# # getting a list of currently featured games.\n",
    "\n",
    "# games_req = requests.get(FEATURED_GAMES_URL).text\n",
    "# all_games = json.loads(games_req)\n",
    "\n",
    "\n",
    "# # gathering names of all players in each featured game\n",
    "# players = []\n",
    "# for game in all_games['gameList']:\n",
    "#     for particpant in game['participants']:\n",
    "#         players.append(particpant['summonerName'])\n",
    "\n",
    "\n",
    "# # gathering the encrypted puuids of each summoner and then finding the match_ids of their first 20 recent matches.\n",
    "\n",
    "# match_ids = []\n",
    "# for player in players:\n",
    "#     url = f'{SUMMONER_INFO_URL}{players}?api_key={API_KEY}'\n",
    "#     player_req = requests.get(url).text\n",
    "#     player_info = json.loads(player_req)\n",
    "\n",
    "#     COUNT = 20\n",
    "#     url = f'{MATCH_ID_URL}{player_info[\"puuid\"]}/ids?start=0&count={COUNT}&api_key={API_KEY}'\n",
    "#     match_ids_req = requests.get(url).text\n",
    "#     matches = json.loads(match_ids_req)\n",
    "\n",
    "#     match_ids += matches\n",
    "\n",
    "\n",
    "## saving the gathered match IDs into a text file.\n",
    "\n",
    "# with open(\"saved-match-ids.txt\", \"a\") as OUTPUT_FILE:\n",
    "#     print(match_ids, file=OUTPUT_FILE)\n"
   ]
  },
  {
   "cell_type": "markdown",
   "metadata": {},
   "source": [
    "The code above goes through the process of accessing and collecting the data directly from Riot's APIs. In order to get a large amount of random data, we first used one of Riots API endpoints to get a list of featured games that have been played recently. The API request returns a large string that can be then parsed into a JSON object. Within the object is a `gameList` field which provides a list of the featured games. Within the `gameList` list, a `participants` field can be accessed which gives a list of participant usernames for a particular game in the list.\n",
    "\n",
    "Using the `gameList`, all of the participants in each game can be stored within the `players` list. Since the featured games API endpoint only provides a small amount of games, we can instead use the recently played matches for each of the participants we stored allowing us to access many more matches that we could not get before.\n",
    "\n",
    "Going through each player in the `players` list, we then need to call another API endpoint using each player's username. The way Riot's API works is that it is not possible to access individual player data through their username alone. Riot instead provides an option to acquire the PUUID, a universally unique identifer, that can then be used to access more information about each player. So, each player's username is used with an API endpoint to get their PUUID. Afterwards, their PUUID is used with another API endpoint to get the player's recent 20 matches that they have played. These matches come back as match IDS (ex: NA1_4301320954) which can then be used with another API endpoint to get more information about the particular match.\n",
    "\n",
    "As seen through this process, data collection may sometimes not be a straightforward step. Some companies may provide many API endpoints but multiple API endpoints may need to be used in order to jump through the data and collect exactly what data you are looking for.\n",
    "\n",
    "The code is commented as to not alter the data currently saved in the text files of the project. Feel free to run the code yourself if you want to get new data to test for yourselves!"
   ]
  },
  {
   "cell_type": "code",
   "execution_count": 63,
   "metadata": {},
   "outputs": [],
   "source": [
    "matches = []\n",
    "\n",
    "with open('saved-match-ids.txt') as file:\n",
    "    text = file.readlines()\n",
    "    pattern = r\"NA1_\\d{10}\"\n",
    "\n",
    "    matches = re.findall(pattern, text[0])\n",
    "\n",
    "with open('saved-match-data.txt') as file:\n",
    "    text = file.readlines()\n",
    "    pattern = r\"NA1_\\d{10}\"\n",
    "\n",
    "    matches += re.findall(pattern, text[0]) \n",
    "\n",
    "matches = list(set(matches))"
   ]
  },
  {
   "cell_type": "markdown",
   "metadata": {},
   "source": [
    "After storing all of the match IDs into text files, we created a small script to go through each text file and store all of the match ids into one single list: `matches`."
   ]
  },
  {
   "cell_type": "code",
   "execution_count": 66,
   "metadata": {},
   "outputs": [],
   "source": [
    "kda = []\n",
    "win = []\n",
    "vision = []\n",
    "participant_match_id = []\n",
    "game_mode = []\n",
    "team_dragons = []\n",
    "\n",
    "for match in matches:\n",
    "    url = f'{MATCH_INFO_URL}{match}?api_key={API_KEY}'\n",
    "    match_info_req = requests.get(url)\n",
    "\n",
    "    if hasattr(match_info_req, 'text') and 'info' in match_info_req.text:\n",
    "        info = json.loads(match_info_req.text)['info']\n",
    "        teams = info['teams']\n",
    "\n",
    "        for participant in info['participants']:\n",
    "            if 'challenges' in participant:\n",
    "                participant_match_id.append(match)\n",
    "                kda.append(participant['challenges']['kda'])\n",
    "                game_mode.append(info['gameMode'])\n",
    "                win.append(participant['win'])\n",
    "                vision.append(participant['challenges']['visionScorePerMinute'])\n",
    "\n",
    "                currTeam = participant['teamId']\n",
    "                for team in teams:\n",
    "                    if team['teamId'] == currTeam:\n",
    "                        team_dragons.append(team['objectives']['dragon']['kills'])\n",
    "\n",
    "\n"
   ]
  },
  {
   "cell_type": "markdown",
   "metadata": {},
   "source": [
    "Going through each match id in `matches`, we are then able to call another API endpoint from Riot in order to get a much more detailed overview of each match. After calling the API request, the data given back sometimes can have missing or unexpected values. For instance, the API is supposed to return a string of a JSON object with the field `info` containing the information of each game. However, we found that some calls the the API endpoint did not return an `info` field. In order to combat this issue, we simply checked to make sure the call returned an `info` field as any match without its info would be useless to us.\n",
    "\n",
    "For those objects which did include an `info` field, a great amount of data was able to be extracted for each match. Particularly, the `info` object contained another object labeled as `participants`. The `participants` object contains a big object with many actions and statistics for each player in the match. In addition, the `participants` object containined a `challenges` object which provided even more statistics for a particular player.\n",
    "\n",
    "In addition to the 'participants' object, there was also a 'teams' object in the 'info' field which contained information that pertained to an entire team in the match. In order to simplify our analysis, we stuck with six fields that we wanted to collect for each participant:\n",
    "    <ol>\n",
    "        <li>\n",
    "            `match_id` (string): The same match ID code that was used to call the API endpoint. The match ID will be stored for each participant in order to keep track of which participants participated in the same matches.</li>\n",
    "        <li>\n",
    "            `kda` (float): Kill Death Assists or KDA for short in the ratio of a participant's Kills and Assists per Death they have. (Kills + Assists) / Deaths\n",
    "        </li>\n",
    "        <li>\n",
    "            `game_mode` (string): In League of Legends, there are multiple game modes that a player could player. For this project we stuck with the most popular gamdemode, \"CLASSIC\".</li>\n",
    "        <li>\n",
    "            `win` (boolean): If they player won a given match, the variable is set to `True`. Otherwise, if the player lost, the variable is set to `False`.</li>\n",
    "        <li>\n",
    "            `vision` (double): In the CLASSIC mode of League of Legends, each player can see a small area of the map that they or their teammates are in. Otherwise, the map is hidden and the player cannot see any enemies within those regions. To combat the issue, players are given the ability to place \"wards\" which act as torches that can illuminate a certain area of a map for a certain period of time for them and their teammates. `vision` numerically tracks the effectiveness of a player's ability to give their team vision by giving them a point for each ward they provide and how long these wards last, and other metrics such as how many wards that they destroy from the other team.\n",
    "        </li>\n",
    "        <li>\n",
    "            `team_dragons` (integer): In the CLASSIC mode of League of Legends, some monsters found in the map are called \"neutral objectives\". These monsters belong to neither team and can be killed by anybody in order to get their teams various rewards. Dragons, in particular, are a big neutral objective that gives teams very powerful powerups. The variables keeps track of how many dragons a player's team has killed within a match.\n",
    "        </li>\n",
    "    </ol>\n",
    "Similarly to the issues found with the inital API call to get the match info, each match sometimes did not contain a `participants` field or `challenges` field. Any match without these two fields were also skipped as the data would not be useful to us for this anlysis.\n",
    "\n",
    "As seen in previous data collection sections, large APIs can provide a great deal of information, but there are many hurdles that need to be overcome. Missing and unepected data is one hurdle, and large API outputs provide a unique hurdle in that there may be many nested objects that need to be traversed to find the data that you want."
   ]
  },
  {
   "cell_type": "code",
   "execution_count": 105,
   "metadata": {},
   "outputs": [
    {
     "data": {
      "text/html": [
       "<div>\n",
       "<style scoped>\n",
       "    .dataframe tbody tr th:only-of-type {\n",
       "        vertical-align: middle;\n",
       "    }\n",
       "\n",
       "    .dataframe tbody tr th {\n",
       "        vertical-align: top;\n",
       "    }\n",
       "\n",
       "    .dataframe thead th {\n",
       "        text-align: right;\n",
       "    }\n",
       "</style>\n",
       "<table border=\"1\" class=\"dataframe\">\n",
       "  <thead>\n",
       "    <tr style=\"text-align: right;\">\n",
       "      <th></th>\n",
       "      <th>match_id</th>\n",
       "      <th>kda</th>\n",
       "      <th>vision</th>\n",
       "      <th>win</th>\n",
       "      <th>game_mode</th>\n",
       "      <th>team_dragons</th>\n",
       "    </tr>\n",
       "  </thead>\n",
       "  <tbody>\n",
       "    <tr>\n",
       "      <th>0</th>\n",
       "      <td>NA1_4283435623</td>\n",
       "      <td>0.750000</td>\n",
       "      <td>0.502529</td>\n",
       "      <td>False</td>\n",
       "      <td>CLASSIC</td>\n",
       "      <td>2</td>\n",
       "    </tr>\n",
       "    <tr>\n",
       "      <th>1</th>\n",
       "      <td>NA1_4283435623</td>\n",
       "      <td>1.250000</td>\n",
       "      <td>0.720630</td>\n",
       "      <td>False</td>\n",
       "      <td>CLASSIC</td>\n",
       "      <td>2</td>\n",
       "    </tr>\n",
       "    <tr>\n",
       "      <th>2</th>\n",
       "      <td>NA1_4283435623</td>\n",
       "      <td>1.600000</td>\n",
       "      <td>0.410884</td>\n",
       "      <td>False</td>\n",
       "      <td>CLASSIC</td>\n",
       "      <td>2</td>\n",
       "    </tr>\n",
       "    <tr>\n",
       "      <th>3</th>\n",
       "      <td>NA1_4283435623</td>\n",
       "      <td>13.000000</td>\n",
       "      <td>0.607956</td>\n",
       "      <td>False</td>\n",
       "      <td>CLASSIC</td>\n",
       "      <td>2</td>\n",
       "    </tr>\n",
       "    <tr>\n",
       "      <th>4</th>\n",
       "      <td>NA1_4283435623</td>\n",
       "      <td>1.181818</td>\n",
       "      <td>2.205942</td>\n",
       "      <td>False</td>\n",
       "      <td>CLASSIC</td>\n",
       "      <td>2</td>\n",
       "    </tr>\n",
       "    <tr>\n",
       "      <th>...</th>\n",
       "      <td>...</td>\n",
       "      <td>...</td>\n",
       "      <td>...</td>\n",
       "      <td>...</td>\n",
       "      <td>...</td>\n",
       "      <td>...</td>\n",
       "    </tr>\n",
       "    <tr>\n",
       "      <th>2710</th>\n",
       "      <td>NA1_4301152214</td>\n",
       "      <td>1.000000</td>\n",
       "      <td>0.576634</td>\n",
       "      <td>False</td>\n",
       "      <td>CLASSIC</td>\n",
       "      <td>2</td>\n",
       "    </tr>\n",
       "    <tr>\n",
       "      <th>2711</th>\n",
       "      <td>NA1_4301152214</td>\n",
       "      <td>1.000000</td>\n",
       "      <td>0.717422</td>\n",
       "      <td>False</td>\n",
       "      <td>CLASSIC</td>\n",
       "      <td>2</td>\n",
       "    </tr>\n",
       "    <tr>\n",
       "      <th>2712</th>\n",
       "      <td>NA1_4301152214</td>\n",
       "      <td>1.000000</td>\n",
       "      <td>0.776044</td>\n",
       "      <td>False</td>\n",
       "      <td>CLASSIC</td>\n",
       "      <td>2</td>\n",
       "    </tr>\n",
       "    <tr>\n",
       "      <th>2713</th>\n",
       "      <td>NA1_4301152214</td>\n",
       "      <td>1.200000</td>\n",
       "      <td>0.628642</td>\n",
       "      <td>False</td>\n",
       "      <td>CLASSIC</td>\n",
       "      <td>2</td>\n",
       "    </tr>\n",
       "    <tr>\n",
       "      <th>2714</th>\n",
       "      <td>NA1_4301152214</td>\n",
       "      <td>1.142857</td>\n",
       "      <td>1.940604</td>\n",
       "      <td>False</td>\n",
       "      <td>CLASSIC</td>\n",
       "      <td>2</td>\n",
       "    </tr>\n",
       "  </tbody>\n",
       "</table>\n",
       "<p>2715 rows × 6 columns</p>\n",
       "</div>"
      ],
      "text/plain": [
       "            match_id        kda    vision    win game_mode  team_dragons\n",
       "0     NA1_4283435623   0.750000  0.502529  False   CLASSIC             2\n",
       "1     NA1_4283435623   1.250000  0.720630  False   CLASSIC             2\n",
       "2     NA1_4283435623   1.600000  0.410884  False   CLASSIC             2\n",
       "3     NA1_4283435623  13.000000  0.607956  False   CLASSIC             2\n",
       "4     NA1_4283435623   1.181818  2.205942  False   CLASSIC             2\n",
       "...              ...        ...       ...    ...       ...           ...\n",
       "2710  NA1_4301152214   1.000000  0.576634  False   CLASSIC             2\n",
       "2711  NA1_4301152214   1.000000  0.717422  False   CLASSIC             2\n",
       "2712  NA1_4301152214   1.000000  0.776044  False   CLASSIC             2\n",
       "2713  NA1_4301152214   1.200000  0.628642  False   CLASSIC             2\n",
       "2714  NA1_4301152214   1.142857  1.940604  False   CLASSIC             2\n",
       "\n",
       "[2715 rows x 6 columns]"
      ]
     },
     "execution_count": 105,
     "metadata": {},
     "output_type": "execute_result"
    }
   ],
   "source": [
    "df = pd.DataFrame()\n",
    "\n",
    "df['match_id'] = participant_match_id\n",
    "df['kda'] = kda\n",
    "df['vision'] = vision\n",
    "df['win'] = win\n",
    "df['game_mode'] = game_mode\n",
    "df['team_dragons'] = team_dragons\n",
    "\n",
    "# Filtering out game modes that are not CLASSIC\n",
    "df = df[df['game_mode'] == 'CLASSIC']\n",
    "df = df.reset_index()\n",
    "df = df.drop(labels='index', axis=1)\n",
    "\n",
    "df"
   ]
  },
  {
   "cell_type": "markdown",
   "metadata": {},
   "source": [
    "# Hypothesis Testing"
   ]
  },
  {
   "cell_type": "code",
   "execution_count": 114,
   "metadata": {},
   "outputs": [
    {
     "name": "stdout",
     "output_type": "stream",
     "text": [
      "[8.50684336e-154]\n"
     ]
    }
   ],
   "source": [
    "hypothesis_df = df[['kda', 'win']].copy()\n",
    "hypothesis_df = hypothesis_df.replace({'win' : {False : 0, True : 1} })\n",
    "\n",
    "kda = [[i] for i in hypothesis_df['kda']]\n",
    "p = f_regression(kda, hypothesis_df['win'])\n",
    "print(p[1])\n"
   ]
  },
  {
   "cell_type": "markdown",
   "metadata": {},
   "source": [
    "# Predicting Game Outcomes Using KDA"
   ]
  },
  {
   "cell_type": "code",
   "execution_count": 102,
   "metadata": {},
   "outputs": [
    {
     "data": {
      "text/plain": [
       "array([[324,  86],\n",
       "       [108, 297]])"
      ]
     },
     "execution_count": 102,
     "metadata": {},
     "output_type": "execute_result"
    }
   ],
   "source": [
    "DT_df = df[['kda', 'win']].copy()\n",
    "DT_df = DT_df.replace({'win' : {False : 0, True : 1} })\n",
    "\n",
    "X = DT_df.drop('win', axis=1)\n",
    "Y = DT_df['win']\n",
    "\n",
    "X_train, X_test, y_train, y_test = train_test_split(X, Y, test_size=0.30, random_state=0)\n",
    "\n",
    "dt = DecisionTreeClassifier()\n",
    "dt.fit(X_train, y_train)\n",
    "predicted = dt.predict(X_test)\n",
    "actual = np.array(y_test)\n",
    "predictions = np.array(predicted)\n",
    "metrics.confusion_matrix(actual, predictions)"
   ]
  },
  {
   "cell_type": "markdown",
   "metadata": {},
   "source": [
    "# What Happens When We Add Another Variable?"
   ]
  },
  {
   "cell_type": "code",
   "execution_count": 74,
   "metadata": {},
   "outputs": [
    {
     "name": "stderr",
     "output_type": "stream",
     "text": [
      "/Library/Frameworks/Python.framework/Versions/3.8/lib/python3.8/site-packages/sklearn/base.py:450: UserWarning: X does not have valid feature names, but NuSVC was fitted with feature names\n",
      "  warnings.warn(\n"
     ]
    }
   ],
   "source": [
    "SVM_df = df[['kda', 'vision', 'win']].copy()\n",
    "SVM_df = SVM_df.replace({'win' : {False : 0, True : 1} })\n",
    "\n",
    "xx, yy = np.meshgrid(np.linspace(0, SVM_df['kda'].max() , 500), np.linspace(0, SVM_df['vision'].max(), 500))\n",
    "\n",
    "X = SVM_df.drop('win', axis=1)\n",
    "Y = SVM_df['win']\n",
    "\n",
    "X_train, X_test, y_train, y_test = train_test_split(X, Y, test_size=0.30, random_state=0)\n",
    "\n",
    "clf = svm.NuSVC(gamma=\"auto\")\n",
    "clf.fit(X_train, y_train)\n",
    "\n",
    "Z = clf.decision_function(np.c_[xx.ravel(), yy.ravel()])\n",
    "Z = Z.reshape(xx.shape)"
   ]
  },
  {
   "cell_type": "code",
   "execution_count": 86,
   "metadata": {},
   "outputs": [
    {
     "data": {
      "image/png": "[encoded data removed]",
      "text/plain": [
       "<Figure size 432x288 with 1 Axes>"
      ]
     },
     "metadata": {
      "needs_background": "light"
     },
     "output_type": "display_data"
    }
   ],
   "source": [
    "plt.imshow(\n",
    "    Z,\n",
    "    interpolation=\"nearest\",\n",
    "    extent=(xx.min(), xx.max(), yy.min(), yy.max()),\n",
    "    aspect=\"auto\",\n",
    "    origin=\"lower\",\n",
    "    cmap=plt.cm.PuOr_r,\n",
    ")\n",
    "contours = plt.contour(xx, yy, Z, levels=[0], linewidths=2, linestyles=\"dashed\")\n",
    "\n",
    "plt.xticks()\n",
    "plt.yticks()\n",
    "\n",
    "plt.title('How KDA and Vision Affects Win/Lose')\n",
    "plt.xlabel('KDA')\n",
    "plt.ylabel('Vision')\n",
    "plt.axis([0, SVM_df['kda'].max(), 0, SVM_df['vision'].max()])\n",
    "plt.show()"
   ]
  },
  {
   "cell_type": "code",
   "execution_count": 87,
   "metadata": {},
   "outputs": [
    {
     "data": {
      "image/png": "[encoded data removed]",
      "text/plain": [
       "<Figure size 432x288 with 1 Axes>"
      ]
     },
     "metadata": {
      "needs_background": "light"
     },
     "output_type": "display_data"
    }
   ],
   "source": [
    "w_checked = False\n",
    "l_checked = False\n",
    "\n",
    "plt.imshow(\n",
    "    Z,\n",
    "    interpolation=\"nearest\",\n",
    "    extent=(xx.min(), xx.max(), yy.min(), yy.max()),\n",
    "    aspect=\"auto\",\n",
    "    origin=\"lower\",\n",
    "    cmap=plt.cm.PuOr_r,\n",
    ")\n",
    "\n",
    "contours = plt.contour(xx, yy, Z, levels=[0], linewidths=2, linestyles=\"dashed\")\n",
    "\n",
    "for index, row in X_test.iterrows():\n",
    "    if y_test[index] == 0:  \n",
    "        if not l_checked:\n",
    "            plt.scatter(row['kda'], row['vision'], c='purple', label='lose')\n",
    "            l_checked = True\n",
    "        else:\n",
    "            plt.scatter(row['kda'], row['vision'], c='purple')\n",
    "    else:\n",
    "        if not w_checked:\n",
    "            plt.scatter(row['kda'], row['vision'], c='brown', label='win')\n",
    "            w_checked = True\n",
    "        else:\n",
    "            plt.scatter(row['kda'], row['vision'], c='brown')\n",
    "\n",
    "plt.legend()\n",
    "plt.xticks()\n",
    "plt.yticks()\n",
    "\n",
    "plt.title('How KDA and Vision Affects Win/Lose')\n",
    "plt.xlabel('KDA')\n",
    "plt.ylabel('Vision')\n",
    "plt.axis([0, SVM_df['kda'].max(), 0, SVM_df['vision'].max()])\n",
    "plt.show()"
   ]
  },
  {
   "cell_type": "code",
   "execution_count": 85,
   "metadata": {},
   "outputs": [
    {
     "name": "stdout",
     "output_type": "stream",
     "text": [
      "Accuracy: 0.7889570552147239\n"
     ]
    }
   ],
   "source": [
    "y_pred = clf.predict(X_test)\n",
    "print(\"Accuracy:\", metrics.accuracy_score(y_test, y_pred))"
   ]
  },
  {
   "cell_type": "markdown",
   "metadata": {},
   "source": [
    "# What Happens When We Add A Third Variable?"
   ]
  },
  {
   "cell_type": "code",
   "execution_count": 110,
   "metadata": {},
   "outputs": [
    {
     "data": {
      "text/plain": [
       "array([[306, 104],\n",
       "       [112, 293]])"
      ]
     },
     "execution_count": 110,
     "metadata": {},
     "output_type": "execute_result"
    }
   ],
   "source": [
    "DT_df = df[['kda', 'vision', 'team_dragons', 'win']].copy()\n",
    "DT_df = DT_df.replace({'win' : {False : 0, True : 1} })\n",
    "\n",
    "X = DT_df.drop('win', axis=1)\n",
    "Y = DT_df['win']\n",
    "\n",
    "X_train, X_test, y_train, y_test = train_test_split(X, Y, test_size=0.30, random_state=0)\n",
    "\n",
    "dt = DecisionTreeClassifier()\n",
    "dt.fit(X_train, y_train)\n",
    "predicted = dt.predict(X_test)\n",
    "actual = np.array(y_test)\n",
    "predictions = np.array(predicted)\n",
    "metrics.confusion_matrix(actual, predictions)"
   ]
  },
  {
   "cell_type": "code",
   "execution_count": null,
   "metadata": {},
   "outputs": [],
   "source": []
  }
 ],
 "metadata": {
  "interpreter": {
   "hash": "b0fa6594d8f4cbf19f97940f81e996739fb7646882a419484c72d19e05852a7e"
  },
  "kernelspec": {
   "display_name": "Python 3.9.7 64-bit",
   "language": "python",
   "name": "python3"
  },
  "language_info": {
   "codemirror_mode": {
    "name": "ipython",
    "version": 3
   },
   "file_extension": ".py",
   "mimetype": "text/x-python",
   "name": "python",
   "nbconvert_exporter": "python",
   "pygments_lexer": "ipython3",
   "version": "3.9.7"
  }
 },
 "nbformat": 4,
 "nbformat_minor": 2
}
